{
  "nbformat": 4,
  "nbformat_minor": 0,
  "metadata": {
    "kernelspec": {
      "display_name": "Python 3",
      "language": "python",
      "name": "python3"
    },
    "language_info": {
      "codemirror_mode": {
        "name": "ipython",
        "version": 3
      },
      "file_extension": ".py",
      "mimetype": "text/x-python",
      "name": "python",
      "nbconvert_exporter": "python",
      "pygments_lexer": "ipython3",
      "version": "3.7.6"
    },
    "colab": {
      "name": "QuarentenaDados aula2.ipynb",
      "provenance": [],
      "include_colab_link": true
    }
  },
  "cells": [
    {
      "cell_type": "markdown",
      "metadata": {
        "id": "view-in-github",
        "colab_type": "text"
      },
      "source": [
        "<a href=\"https://colab.research.google.com/github/MagdaSousa/QuarentenaDados---Exercicios-/blob/master/QuarentenaDados_aula2.ipynb\" target=\"_parent\"><img src=\"https://colab.research.google.com/assets/colab-badge.svg\" alt=\"Open In Colab\"/></a>"
      ]
    },
    {
      "cell_type": "markdown",
      "metadata": {
        "id": "q9mcwtQLP7bu",
        "colab_type": "text"
      },
      "source": [
        "# Analisando Dataset relacionado a avaliações de Filmes"
      ]
    },
    {
      "cell_type": "code",
      "metadata": {
        "id": "WAA9NxuZP7bv",
        "colab_type": "code",
        "colab": {}
      },
      "source": [
        "import pandas as pd\n",
        "filmes = pd.read_csv('https://gist.githubusercontent.com/MagdaSousa/8e1b64d1148a27e3faa7310de255ce65/raw/d3ef1a72ebf1b8d02b7337787a3ad3c71e1134da/movies.csv')\n"
      ],
      "execution_count": 0,
      "outputs": []
    },
    {
      "cell_type": "code",
      "metadata": {
        "id": "-nwodzSkP7b6",
        "colab_type": "code",
        "colab": {}
      },
      "source": [
        "# vou pegar o arquivo csv que contém as notas dadas para os filmes\n",
        "avaliacoes = pd.read_csv('https://gist.githubusercontent.com/MagdaSousa/482146fc32e14da2d2d6fe8a5ff880e6/raw/b336613550e636cbec6d3e6a1a75519d8a858fbf/ratings.csv')\n"
      ],
      "execution_count": 0,
      "outputs": []
    },
    {
      "cell_type": "code",
      "metadata": {
        "id": "nTT0NVfYSVFj",
        "colab_type": "code",
        "colab": {
          "base_uri": "https://localhost:8080/",
          "height": 35
        },
        "outputId": "68f9fcfc-5063-405c-87cd-975302a96fc3"
      },
      "source": [
        "\n",
        "filmes.columns = ['filmesid','titulo','generos']\n",
        "filmes.columns"
      ],
      "execution_count": 28,
      "outputs": [
        {
          "output_type": "execute_result",
          "data": {
            "text/plain": [
              "Index(['filmesid', 'titulo', 'generos'], dtype='object')"
            ]
          },
          "metadata": {
            "tags": []
          },
          "execution_count": 28
        }
      ]
    },
    {
      "cell_type": "code",
      "metadata": {
        "id": "K-bwPxbKP7cF",
        "colab_type": "code",
        "colab": {}
      },
      "source": [
        "#renomeando as colunas\n",
        "avaliacoes.columns = ['usuarioid', 'filmesid','notas','momento']"
      ],
      "execution_count": 0,
      "outputs": []
    },
    {
      "cell_type": "code",
      "metadata": {
        "id": "LknwzJLOP7cL",
        "colab_type": "code",
        "colab": {
          "base_uri": "https://localhost:8080/",
          "height": 294
        },
        "outputId": "2d7215be-d6ca-4138-f1d4-83abd49d772a"
      },
      "source": [
        "# Para verificar dados estatísticos como a média e outros utilizo o método describe\n",
        "avaliacoes.describe()\n",
        "# mean-> é a média que diz que o valor médio das notas dadas foi de 3,5. O min é a nota mínima no aso 0,5 e o max é a nota máxima,\n",
        "#que no caso é 5 "
      ],
      "execution_count": 30,
      "outputs": [
        {
          "output_type": "execute_result",
          "data": {
            "text/html": [
              "<div>\n",
              "<style scoped>\n",
              "    .dataframe tbody tr th:only-of-type {\n",
              "        vertical-align: middle;\n",
              "    }\n",
              "\n",
              "    .dataframe tbody tr th {\n",
              "        vertical-align: top;\n",
              "    }\n",
              "\n",
              "    .dataframe thead th {\n",
              "        text-align: right;\n",
              "    }\n",
              "</style>\n",
              "<table border=\"1\" class=\"dataframe\">\n",
              "  <thead>\n",
              "    <tr style=\"text-align: right;\">\n",
              "      <th></th>\n",
              "      <th>usuarioid</th>\n",
              "      <th>filmesid</th>\n",
              "      <th>notas</th>\n",
              "      <th>momento</th>\n",
              "    </tr>\n",
              "  </thead>\n",
              "  <tbody>\n",
              "    <tr>\n",
              "      <th>count</th>\n",
              "      <td>100836.000000</td>\n",
              "      <td>100836.000000</td>\n",
              "      <td>100836.000000</td>\n",
              "      <td>1.008360e+05</td>\n",
              "    </tr>\n",
              "    <tr>\n",
              "      <th>mean</th>\n",
              "      <td>326.127564</td>\n",
              "      <td>19435.295718</td>\n",
              "      <td>3.501557</td>\n",
              "      <td>1.205946e+09</td>\n",
              "    </tr>\n",
              "    <tr>\n",
              "      <th>std</th>\n",
              "      <td>182.618491</td>\n",
              "      <td>35530.987199</td>\n",
              "      <td>1.042529</td>\n",
              "      <td>2.162610e+08</td>\n",
              "    </tr>\n",
              "    <tr>\n",
              "      <th>min</th>\n",
              "      <td>1.000000</td>\n",
              "      <td>1.000000</td>\n",
              "      <td>0.500000</td>\n",
              "      <td>8.281246e+08</td>\n",
              "    </tr>\n",
              "    <tr>\n",
              "      <th>25%</th>\n",
              "      <td>177.000000</td>\n",
              "      <td>1199.000000</td>\n",
              "      <td>3.000000</td>\n",
              "      <td>1.019124e+09</td>\n",
              "    </tr>\n",
              "    <tr>\n",
              "      <th>50%</th>\n",
              "      <td>325.000000</td>\n",
              "      <td>2991.000000</td>\n",
              "      <td>3.500000</td>\n",
              "      <td>1.186087e+09</td>\n",
              "    </tr>\n",
              "    <tr>\n",
              "      <th>75%</th>\n",
              "      <td>477.000000</td>\n",
              "      <td>8122.000000</td>\n",
              "      <td>4.000000</td>\n",
              "      <td>1.435994e+09</td>\n",
              "    </tr>\n",
              "    <tr>\n",
              "      <th>max</th>\n",
              "      <td>610.000000</td>\n",
              "      <td>193609.000000</td>\n",
              "      <td>5.000000</td>\n",
              "      <td>1.537799e+09</td>\n",
              "    </tr>\n",
              "  </tbody>\n",
              "</table>\n",
              "</div>"
            ],
            "text/plain": [
              "           usuarioid       filmesid          notas       momento\n",
              "count  100836.000000  100836.000000  100836.000000  1.008360e+05\n",
              "mean      326.127564   19435.295718       3.501557  1.205946e+09\n",
              "std       182.618491   35530.987199       1.042529  2.162610e+08\n",
              "min         1.000000       1.000000       0.500000  8.281246e+08\n",
              "25%       177.000000    1199.000000       3.000000  1.019124e+09\n",
              "50%       325.000000    2991.000000       3.500000  1.186087e+09\n",
              "75%       477.000000    8122.000000       4.000000  1.435994e+09\n",
              "max       610.000000  193609.000000       5.000000  1.537799e+09"
            ]
          },
          "metadata": {
            "tags": []
          },
          "execution_count": 30
        }
      ]
    },
    {
      "cell_type": "code",
      "metadata": {
        "id": "lpRJZLfrP7cW",
        "colab_type": "code",
        "colab": {
          "base_uri": "https://localhost:8080/",
          "height": 104
        },
        "outputId": "143b38dc-226e-4f5e-f828-e23345288ac3"
      },
      "source": [
        "# pegando somente a média referente aos dados do filme 1\n",
        "avaliacoes.query('filmesid==1').mean()\n",
        "# só que neste caso ele calcula a média das outras colunas também referentes ao filme 1"
      ],
      "execution_count": 31,
      "outputs": [
        {
          "output_type": "execute_result",
          "data": {
            "text/plain": [
              "usuarioid    3.065302e+02\n",
              "filmesid     1.000000e+00\n",
              "notas        3.920930e+00\n",
              "momento      1.129835e+09\n",
              "dtype: float64"
            ]
          },
          "metadata": {
            "tags": []
          },
          "execution_count": 31
        }
      ]
    },
    {
      "cell_type": "markdown",
      "metadata": {
        "id": "V8NQL236P7c-",
        "colab_type": "text"
      },
      "source": [
        "# AULA 2 "
      ]
    },
    {
      "cell_type": "markdown",
      "metadata": {
        "id": "Xj70CUo2P7c_",
        "colab_type": "text"
      },
      "source": [
        "Trabalhando com a culuna generos, que é uma string, e teriamos que estrair todos os generos, e como alguns filmes tem mais de uma então fica complicado...."
      ]
    },
    {
      "cell_type": "code",
      "metadata": {
        "id": "yjsT3XXSP7c_",
        "colab_type": "code",
        "colab": {
          "base_uri": "https://localhost:8080/",
          "height": 225
        },
        "outputId": "3f8b7168-0212-4b64-b0f0-a0eee9c18526"
      },
      "source": [
        "filmes['generos']\n",
        "# pegando somente a coluna(variável) generos"
      ],
      "execution_count": 32,
      "outputs": [
        {
          "output_type": "execute_result",
          "data": {
            "text/plain": [
              "0       Adventure|Animation|Children|Comedy|Fantasy\n",
              "1                        Adventure|Children|Fantasy\n",
              "2                                    Comedy|Romance\n",
              "3                              Comedy|Drama|Romance\n",
              "4                                            Comedy\n",
              "                           ...                     \n",
              "9737                Action|Animation|Comedy|Fantasy\n",
              "9738                       Animation|Comedy|Fantasy\n",
              "9739                                          Drama\n",
              "9740                               Action|Animation\n",
              "9741                                         Comedy\n",
              "Name: generos, Length: 9742, dtype: object"
            ]
          },
          "metadata": {
            "tags": []
          },
          "execution_count": 32
        }
      ]
    },
    {
      "cell_type": "code",
      "metadata": {
        "id": "ZnkqVIFgP7dB",
        "colab_type": "code",
        "colab": {
          "base_uri": "https://localhost:8080/",
          "height": 470
        },
        "outputId": "bbd55935-fe3e-4a48-cef8-eabf0e552998"
      },
      "source": [
        "#Para acessar funções relacionadas a strings no pandas, temos que chamar a função str,\n",
        "#e apartir dela, chamr as outra que queremos para manipular a string\n",
        "\n",
        "#Agora vamos  chamremos uma função que vai quebrar essa string em várias, retirando os pipes , e fatiando a string\n",
        "\n",
        "#As novas strings formadas ser'ao chamadas de dummies\n",
        "filmes['generos'].str.get_dummies()\n",
        "#funciona tbm com a pipe filmes['generos'].str.get_dummies('|')\n",
        "# esta função vai percorrer todos os generos de cada filme, separar em colunas(exluindo os repetidos), e cada filme, caso ele pertença\n",
        "# aquele determindao genero, vai aparecer o número1, e caso não pertença vai aparecer o número 0"
      ],
      "execution_count": 33,
      "outputs": [
        {
          "output_type": "execute_result",
          "data": {
            "text/html": [
              "<div>\n",
              "<style scoped>\n",
              "    .dataframe tbody tr th:only-of-type {\n",
              "        vertical-align: middle;\n",
              "    }\n",
              "\n",
              "    .dataframe tbody tr th {\n",
              "        vertical-align: top;\n",
              "    }\n",
              "\n",
              "    .dataframe thead th {\n",
              "        text-align: right;\n",
              "    }\n",
              "</style>\n",
              "<table border=\"1\" class=\"dataframe\">\n",
              "  <thead>\n",
              "    <tr style=\"text-align: right;\">\n",
              "      <th></th>\n",
              "      <th>(no genres listed)</th>\n",
              "      <th>Action</th>\n",
              "      <th>Adventure</th>\n",
              "      <th>Animation</th>\n",
              "      <th>Children</th>\n",
              "      <th>Comedy</th>\n",
              "      <th>Crime</th>\n",
              "      <th>Documentary</th>\n",
              "      <th>Drama</th>\n",
              "      <th>Fantasy</th>\n",
              "      <th>Film-Noir</th>\n",
              "      <th>Horror</th>\n",
              "      <th>IMAX</th>\n",
              "      <th>Musical</th>\n",
              "      <th>Mystery</th>\n",
              "      <th>Romance</th>\n",
              "      <th>Sci-Fi</th>\n",
              "      <th>Thriller</th>\n",
              "      <th>War</th>\n",
              "      <th>Western</th>\n",
              "    </tr>\n",
              "  </thead>\n",
              "  <tbody>\n",
              "    <tr>\n",
              "      <th>0</th>\n",
              "      <td>0</td>\n",
              "      <td>0</td>\n",
              "      <td>1</td>\n",
              "      <td>1</td>\n",
              "      <td>1</td>\n",
              "      <td>1</td>\n",
              "      <td>0</td>\n",
              "      <td>0</td>\n",
              "      <td>0</td>\n",
              "      <td>1</td>\n",
              "      <td>0</td>\n",
              "      <td>0</td>\n",
              "      <td>0</td>\n",
              "      <td>0</td>\n",
              "      <td>0</td>\n",
              "      <td>0</td>\n",
              "      <td>0</td>\n",
              "      <td>0</td>\n",
              "      <td>0</td>\n",
              "      <td>0</td>\n",
              "    </tr>\n",
              "    <tr>\n",
              "      <th>1</th>\n",
              "      <td>0</td>\n",
              "      <td>0</td>\n",
              "      <td>1</td>\n",
              "      <td>0</td>\n",
              "      <td>1</td>\n",
              "      <td>0</td>\n",
              "      <td>0</td>\n",
              "      <td>0</td>\n",
              "      <td>0</td>\n",
              "      <td>1</td>\n",
              "      <td>0</td>\n",
              "      <td>0</td>\n",
              "      <td>0</td>\n",
              "      <td>0</td>\n",
              "      <td>0</td>\n",
              "      <td>0</td>\n",
              "      <td>0</td>\n",
              "      <td>0</td>\n",
              "      <td>0</td>\n",
              "      <td>0</td>\n",
              "    </tr>\n",
              "    <tr>\n",
              "      <th>2</th>\n",
              "      <td>0</td>\n",
              "      <td>0</td>\n",
              "      <td>0</td>\n",
              "      <td>0</td>\n",
              "      <td>0</td>\n",
              "      <td>1</td>\n",
              "      <td>0</td>\n",
              "      <td>0</td>\n",
              "      <td>0</td>\n",
              "      <td>0</td>\n",
              "      <td>0</td>\n",
              "      <td>0</td>\n",
              "      <td>0</td>\n",
              "      <td>0</td>\n",
              "      <td>0</td>\n",
              "      <td>1</td>\n",
              "      <td>0</td>\n",
              "      <td>0</td>\n",
              "      <td>0</td>\n",
              "      <td>0</td>\n",
              "    </tr>\n",
              "    <tr>\n",
              "      <th>3</th>\n",
              "      <td>0</td>\n",
              "      <td>0</td>\n",
              "      <td>0</td>\n",
              "      <td>0</td>\n",
              "      <td>0</td>\n",
              "      <td>1</td>\n",
              "      <td>0</td>\n",
              "      <td>0</td>\n",
              "      <td>1</td>\n",
              "      <td>0</td>\n",
              "      <td>0</td>\n",
              "      <td>0</td>\n",
              "      <td>0</td>\n",
              "      <td>0</td>\n",
              "      <td>0</td>\n",
              "      <td>1</td>\n",
              "      <td>0</td>\n",
              "      <td>0</td>\n",
              "      <td>0</td>\n",
              "      <td>0</td>\n",
              "    </tr>\n",
              "    <tr>\n",
              "      <th>4</th>\n",
              "      <td>0</td>\n",
              "      <td>0</td>\n",
              "      <td>0</td>\n",
              "      <td>0</td>\n",
              "      <td>0</td>\n",
              "      <td>1</td>\n",
              "      <td>0</td>\n",
              "      <td>0</td>\n",
              "      <td>0</td>\n",
              "      <td>0</td>\n",
              "      <td>0</td>\n",
              "      <td>0</td>\n",
              "      <td>0</td>\n",
              "      <td>0</td>\n",
              "      <td>0</td>\n",
              "      <td>0</td>\n",
              "      <td>0</td>\n",
              "      <td>0</td>\n",
              "      <td>0</td>\n",
              "      <td>0</td>\n",
              "    </tr>\n",
              "    <tr>\n",
              "      <th>...</th>\n",
              "      <td>...</td>\n",
              "      <td>...</td>\n",
              "      <td>...</td>\n",
              "      <td>...</td>\n",
              "      <td>...</td>\n",
              "      <td>...</td>\n",
              "      <td>...</td>\n",
              "      <td>...</td>\n",
              "      <td>...</td>\n",
              "      <td>...</td>\n",
              "      <td>...</td>\n",
              "      <td>...</td>\n",
              "      <td>...</td>\n",
              "      <td>...</td>\n",
              "      <td>...</td>\n",
              "      <td>...</td>\n",
              "      <td>...</td>\n",
              "      <td>...</td>\n",
              "      <td>...</td>\n",
              "      <td>...</td>\n",
              "    </tr>\n",
              "    <tr>\n",
              "      <th>9737</th>\n",
              "      <td>0</td>\n",
              "      <td>1</td>\n",
              "      <td>0</td>\n",
              "      <td>1</td>\n",
              "      <td>0</td>\n",
              "      <td>1</td>\n",
              "      <td>0</td>\n",
              "      <td>0</td>\n",
              "      <td>0</td>\n",
              "      <td>1</td>\n",
              "      <td>0</td>\n",
              "      <td>0</td>\n",
              "      <td>0</td>\n",
              "      <td>0</td>\n",
              "      <td>0</td>\n",
              "      <td>0</td>\n",
              "      <td>0</td>\n",
              "      <td>0</td>\n",
              "      <td>0</td>\n",
              "      <td>0</td>\n",
              "    </tr>\n",
              "    <tr>\n",
              "      <th>9738</th>\n",
              "      <td>0</td>\n",
              "      <td>0</td>\n",
              "      <td>0</td>\n",
              "      <td>1</td>\n",
              "      <td>0</td>\n",
              "      <td>1</td>\n",
              "      <td>0</td>\n",
              "      <td>0</td>\n",
              "      <td>0</td>\n",
              "      <td>1</td>\n",
              "      <td>0</td>\n",
              "      <td>0</td>\n",
              "      <td>0</td>\n",
              "      <td>0</td>\n",
              "      <td>0</td>\n",
              "      <td>0</td>\n",
              "      <td>0</td>\n",
              "      <td>0</td>\n",
              "      <td>0</td>\n",
              "      <td>0</td>\n",
              "    </tr>\n",
              "    <tr>\n",
              "      <th>9739</th>\n",
              "      <td>0</td>\n",
              "      <td>0</td>\n",
              "      <td>0</td>\n",
              "      <td>0</td>\n",
              "      <td>0</td>\n",
              "      <td>0</td>\n",
              "      <td>0</td>\n",
              "      <td>0</td>\n",
              "      <td>1</td>\n",
              "      <td>0</td>\n",
              "      <td>0</td>\n",
              "      <td>0</td>\n",
              "      <td>0</td>\n",
              "      <td>0</td>\n",
              "      <td>0</td>\n",
              "      <td>0</td>\n",
              "      <td>0</td>\n",
              "      <td>0</td>\n",
              "      <td>0</td>\n",
              "      <td>0</td>\n",
              "    </tr>\n",
              "    <tr>\n",
              "      <th>9740</th>\n",
              "      <td>0</td>\n",
              "      <td>1</td>\n",
              "      <td>0</td>\n",
              "      <td>1</td>\n",
              "      <td>0</td>\n",
              "      <td>0</td>\n",
              "      <td>0</td>\n",
              "      <td>0</td>\n",
              "      <td>0</td>\n",
              "      <td>0</td>\n",
              "      <td>0</td>\n",
              "      <td>0</td>\n",
              "      <td>0</td>\n",
              "      <td>0</td>\n",
              "      <td>0</td>\n",
              "      <td>0</td>\n",
              "      <td>0</td>\n",
              "      <td>0</td>\n",
              "      <td>0</td>\n",
              "      <td>0</td>\n",
              "    </tr>\n",
              "    <tr>\n",
              "      <th>9741</th>\n",
              "      <td>0</td>\n",
              "      <td>0</td>\n",
              "      <td>0</td>\n",
              "      <td>0</td>\n",
              "      <td>0</td>\n",
              "      <td>1</td>\n",
              "      <td>0</td>\n",
              "      <td>0</td>\n",
              "      <td>0</td>\n",
              "      <td>0</td>\n",
              "      <td>0</td>\n",
              "      <td>0</td>\n",
              "      <td>0</td>\n",
              "      <td>0</td>\n",
              "      <td>0</td>\n",
              "      <td>0</td>\n",
              "      <td>0</td>\n",
              "      <td>0</td>\n",
              "      <td>0</td>\n",
              "      <td>0</td>\n",
              "    </tr>\n",
              "  </tbody>\n",
              "</table>\n",
              "<p>9742 rows × 20 columns</p>\n",
              "</div>"
            ],
            "text/plain": [
              "      (no genres listed)  Action  Adventure  ...  Thriller  War  Western\n",
              "0                      0       0          1  ...         0    0        0\n",
              "1                      0       0          1  ...         0    0        0\n",
              "2                      0       0          0  ...         0    0        0\n",
              "3                      0       0          0  ...         0    0        0\n",
              "4                      0       0          0  ...         0    0        0\n",
              "...                  ...     ...        ...  ...       ...  ...      ...\n",
              "9737                   0       1          0  ...         0    0        0\n",
              "9738                   0       0          0  ...         0    0        0\n",
              "9739                   0       0          0  ...         0    0        0\n",
              "9740                   0       1          0  ...         0    0        0\n",
              "9741                   0       0          0  ...         0    0        0\n",
              "\n",
              "[9742 rows x 20 columns]"
            ]
          },
          "metadata": {
            "tags": []
          },
          "execution_count": 33
        }
      ]
    },
    {
      "cell_type": "code",
      "metadata": {
        "id": "FgGFqbzkP7dD",
        "colab_type": "code",
        "colab": {
          "base_uri": "https://localhost:8080/",
          "height": 381
        },
        "outputId": "c5285504-b801-454e-efa8-4a6c225c67df"
      },
      "source": [
        "filmes['generos'].str.get_dummies().sum()\n",
        "#agora vamos somar a quantidade de filems que tem o genero ação, terror e etc.........\n",
        "# Neste caso ele lista que existem cerca de 34 categorias, e que  poe exemplo há 1828 filmes do genero action"
      ],
      "execution_count": 34,
      "outputs": [
        {
          "output_type": "execute_result",
          "data": {
            "text/plain": [
              "(no genres listed)      34\n",
              "Action                1828\n",
              "Adventure             1263\n",
              "Animation              611\n",
              "Children               664\n",
              "Comedy                3756\n",
              "Crime                 1199\n",
              "Documentary            440\n",
              "Drama                 4361\n",
              "Fantasy                779\n",
              "Film-Noir               87\n",
              "Horror                 978\n",
              "IMAX                   158\n",
              "Musical                334\n",
              "Mystery                573\n",
              "Romance               1596\n",
              "Sci-Fi                 980\n",
              "Thriller              1894\n",
              "War                    382\n",
              "Western                167\n",
              "dtype: int64"
            ]
          },
          "metadata": {
            "tags": []
          },
          "execution_count": 34
        }
      ]
    },
    {
      "cell_type": "markdown",
      "metadata": {
        "id": "Ngiuqd6UP7dF",
        "colab_type": "text"
      },
      "source": [
        "Para fazer com que a soma seja feita pelo outro eixo ou seja no caso a linha, basta usar um outro parametro 'axis'. O 1 indica que vc está querendo que seja feita a soma pela linha, no caso utilizando como exemplo o filme '0', ele fará a soma \n",
        "da quantidade de genêros enconrados para este filme."
      ]
    },
    {
      "cell_type": "code",
      "metadata": {
        "id": "stWqHMuZP7dF",
        "colab_type": "code",
        "colab": {
          "base_uri": "https://localhost:8080/",
          "height": 225
        },
        "outputId": "163ed0fc-fa36-4de7-b595-fcfbf3e9ed4b"
      },
      "source": [
        "filmes['generos'].str.get_dummies().sum(axis=1)"
      ],
      "execution_count": 35,
      "outputs": [
        {
          "output_type": "execute_result",
          "data": {
            "text/plain": [
              "0       5\n",
              "1       3\n",
              "2       2\n",
              "3       3\n",
              "4       1\n",
              "       ..\n",
              "9737    4\n",
              "9738    3\n",
              "9739    1\n",
              "9740    2\n",
              "9741    1\n",
              "Length: 9742, dtype: int64"
            ]
          },
          "metadata": {
            "tags": []
          },
          "execution_count": 35
        }
      ]
    },
    {
      "cell_type": "markdown",
      "metadata": {
        "id": "Zpdj3Sz7P7dH",
        "colab_type": "text"
      },
      "source": [
        "Ou seja para fazer a amostragem anterior, que somava as colunas, dizendo a quantidade de filmes que possuiam aquele determinado \n",
        "genêro, podemos fazer utilizando o número 0."
      ]
    },
    {
      "cell_type": "code",
      "metadata": {
        "id": "Um3xzV9jP7dH",
        "colab_type": "code",
        "colab": {
          "base_uri": "https://localhost:8080/",
          "height": 381
        },
        "outputId": "ab6564e4-2bcd-42ba-dfd8-d45ca9d1048f"
      },
      "source": [
        "filmes['generos'].str.get_dummies().sum(axis=0)"
      ],
      "execution_count": 36,
      "outputs": [
        {
          "output_type": "execute_result",
          "data": {
            "text/plain": [
              "(no genres listed)      34\n",
              "Action                1828\n",
              "Adventure             1263\n",
              "Animation              611\n",
              "Children               664\n",
              "Comedy                3756\n",
              "Crime                 1199\n",
              "Documentary            440\n",
              "Drama                 4361\n",
              "Fantasy                779\n",
              "Film-Noir               87\n",
              "Horror                 978\n",
              "IMAX                   158\n",
              "Musical                334\n",
              "Mystery                573\n",
              "Romance               1596\n",
              "Sci-Fi                 980\n",
              "Thriller              1894\n",
              "War                    382\n",
              "Western                167\n",
              "dtype: int64"
            ]
          },
          "metadata": {
            "tags": []
          },
          "execution_count": 36
        }
      ]
    },
    {
      "cell_type": "markdown",
      "metadata": {
        "id": "dMTq1oPSP7dJ",
        "colab_type": "text"
      },
      "source": [
        "Agora vamos pedir para contar a frequência de generos que mais aparecem.Exemplo: existem 3.000 filmes que possuem apenas 2 genêros,4.500 filmes com apenas 1 categoria."
      ]
    },
    {
      "cell_type": "code",
      "metadata": {
        "id": "vt7p2KpEP7dJ",
        "colab_type": "code",
        "colab": {
          "base_uri": "https://localhost:8080/",
          "height": 191
        },
        "outputId": "4aa7651a-fe78-426a-ee14-f72592426d04"
      },
      "source": [
        "filmes['generos'].str.get_dummies().sum(axis=1).value_counts()\n",
        "# neste caso existem 3218 filmes com apenas 2 genêros"
      ],
      "execution_count": 37,
      "outputs": [
        {
          "output_type": "execute_result",
          "data": {
            "text/plain": [
              "2     3218\n",
              "1     2851\n",
              "3     2338\n",
              "4      987\n",
              "5      271\n",
              "6       63\n",
              "7       12\n",
              "10       1\n",
              "8        1\n",
              "dtype: int64"
            ]
          },
          "metadata": {
            "tags": []
          },
          "execution_count": 37
        }
      ]
    },
    {
      "cell_type": "markdown",
      "metadata": {
        "id": "FmIk_FsnP7dM",
        "colab_type": "text"
      },
      "source": [
        "Como a soma que mostrava a quantidade de filmes de acordo com a categoria, estava desordenada, não dava para saber qual genero tinha a maior frequência e qual tinha a menor frequência então vamos ordenar, pela ordem decrescente:"
      ]
    },
    {
      "cell_type": "code",
      "metadata": {
        "id": "BHgE9EKhP7dN",
        "colab_type": "code",
        "colab": {
          "base_uri": "https://localhost:8080/",
          "height": 381
        },
        "outputId": "d6275b09-d34b-4115-bed7-cf5771c13901"
      },
      "source": [
        "filmes['generos'].str.get_dummies().sum().sort_values(ascending=False)"
      ],
      "execution_count": 38,
      "outputs": [
        {
          "output_type": "execute_result",
          "data": {
            "text/plain": [
              "Drama                 4361\n",
              "Comedy                3756\n",
              "Thriller              1894\n",
              "Action                1828\n",
              "Romance               1596\n",
              "Adventure             1263\n",
              "Crime                 1199\n",
              "Sci-Fi                 980\n",
              "Horror                 978\n",
              "Fantasy                779\n",
              "Children               664\n",
              "Animation              611\n",
              "Mystery                573\n",
              "Documentary            440\n",
              "War                    382\n",
              "Musical                334\n",
              "Western                167\n",
              "IMAX                   158\n",
              "Film-Noir               87\n",
              "(no genres listed)      34\n",
              "dtype: int64"
            ]
          },
          "metadata": {
            "tags": []
          },
          "execution_count": 38
        }
      ]
    },
    {
      "cell_type": "markdown",
      "metadata": {
        "id": "0sK9QqTPP7dP",
        "colab_type": "text"
      },
      "source": [
        "Ordenando agora de maneira crescente:"
      ]
    },
    {
      "cell_type": "code",
      "metadata": {
        "id": "IY7sC3MGP7dP",
        "colab_type": "code",
        "colab": {
          "base_uri": "https://localhost:8080/",
          "height": 381
        },
        "outputId": "fa892c6d-0c34-4422-8a2d-540d16f6bead"
      },
      "source": [
        "filmes['generos'].str.get_dummies().sum().sort_values(ascending=True)"
      ],
      "execution_count": 39,
      "outputs": [
        {
          "output_type": "execute_result",
          "data": {
            "text/plain": [
              "(no genres listed)      34\n",
              "Film-Noir               87\n",
              "IMAX                   158\n",
              "Western                167\n",
              "Musical                334\n",
              "War                    382\n",
              "Documentary            440\n",
              "Mystery                573\n",
              "Animation              611\n",
              "Children               664\n",
              "Fantasy                779\n",
              "Horror                 978\n",
              "Sci-Fi                 980\n",
              "Crime                 1199\n",
              "Adventure             1263\n",
              "Romance               1596\n",
              "Action                1828\n",
              "Thriller              1894\n",
              "Comedy                3756\n",
              "Drama                 4361\n",
              "dtype: int64"
            ]
          },
          "metadata": {
            "tags": []
          },
          "execution_count": 39
        }
      ]
    },
    {
      "cell_type": "markdown",
      "metadata": {
        "id": "BABIJro8P7dR",
        "colab_type": "text"
      },
      "source": [
        "Obs.: Parece ter duas colunas, nome do genero e valores, porém só há uma coluna a dos valores, os nomes só aparecem para nós podermos nos orientar e saber de qual item nós estamos falando porém esse índice não pode ser manipulado, pois só será para visualização, somente os valores são manipulados."
      ]
    },
    {
      "cell_type": "markdown",
      "metadata": {
        "id": "KCRxbldSP7dS",
        "colab_type": "text"
      },
      "source": [
        "Atenção: está coluna é uma série do tipo inteiro, uma espécie de array"
      ]
    },
    {
      "cell_type": "markdown",
      "metadata": {
        "id": "8uEhHqoyP7dS",
        "colab_type": "text"
      },
      "source": [
        "Acessando o índice do dataframe:"
      ]
    },
    {
      "cell_type": "code",
      "metadata": {
        "id": "DPmI3hhuP7dS",
        "colab_type": "code",
        "colab": {
          "base_uri": "https://localhost:8080/",
          "height": 35
        },
        "outputId": "026c4679-93c3-4524-9b63-dcf73323c15b"
      },
      "source": [
        "filmes.index"
      ],
      "execution_count": 40,
      "outputs": [
        {
          "output_type": "execute_result",
          "data": {
            "text/plain": [
              "RangeIndex(start=0, stop=9742, step=1)"
            ]
          },
          "metadata": {
            "tags": []
          },
          "execution_count": 40
        }
      ]
    },
    {
      "cell_type": "code",
      "metadata": {
        "id": "c3ooHjSWP7dU",
        "colab_type": "code",
        "colab": {
          "base_uri": "https://localhost:8080/",
          "height": 191
        },
        "outputId": "ba121072-5579-4c61-e388-28c673cc4f71"
      },
      "source": [
        "filmes.values"
      ],
      "execution_count": 41,
      "outputs": [
        {
          "output_type": "execute_result",
          "data": {
            "text/plain": [
              "array([[1, 'Toy Story (1995)',\n",
              "        'Adventure|Animation|Children|Comedy|Fantasy'],\n",
              "       [2, 'Jumanji (1995)', 'Adventure|Children|Fantasy'],\n",
              "       [3, 'Grumpier Old Men (1995)', 'Comedy|Romance'],\n",
              "       ...,\n",
              "       [193585, 'Flint (2017)', 'Drama'],\n",
              "       [193587, 'Bungo Stray Dogs: Dead Apple (2018)',\n",
              "        'Action|Animation'],\n",
              "       [193609, 'Andrew Dice Clay: Dice Rules (1991)', 'Comedy']],\n",
              "      dtype=object)"
            ]
          },
          "metadata": {
            "tags": []
          },
          "execution_count": 41
        }
      ]
    },
    {
      "cell_type": "markdown",
      "metadata": {
        "id": "54EVu5qtP7dW",
        "colab_type": "text"
      },
      "source": [
        "Acessando valores e índices da lista já ordenada:"
      ]
    },
    {
      "cell_type": "code",
      "metadata": {
        "id": "x33tULNNP7dX",
        "colab_type": "code",
        "colab": {
          "base_uri": "https://localhost:8080/",
          "height": 104
        },
        "outputId": "4b9eb9f9-1501-4dbd-9f73-19aabd226ee5"
      },
      "source": [
        "filmes['generos'].str.get_dummies().sum().sort_values(ascending=True).index"
      ],
      "execution_count": 42,
      "outputs": [
        {
          "output_type": "execute_result",
          "data": {
            "text/plain": [
              "Index(['(no genres listed)', 'Film-Noir', 'IMAX', 'Western', 'Musical', 'War',\n",
              "       'Documentary', 'Mystery', 'Animation', 'Children', 'Fantasy', 'Horror',\n",
              "       'Sci-Fi', 'Crime', 'Adventure', 'Romance', 'Action', 'Thriller',\n",
              "       'Comedy', 'Drama'],\n",
              "      dtype='object')"
            ]
          },
          "metadata": {
            "tags": []
          },
          "execution_count": 42
        }
      ]
    },
    {
      "cell_type": "markdown",
      "metadata": {
        "id": "joj6lztVP7dZ",
        "colab_type": "text"
      },
      "source": [
        "Como podemos ver os índices desta série são justamente o nome dos genêros dos filmes..."
      ]
    },
    {
      "cell_type": "code",
      "metadata": {
        "id": "X0nLN_O5P7dZ",
        "colab_type": "code",
        "colab": {
          "base_uri": "https://localhost:8080/",
          "height": 52
        },
        "outputId": "f2af5b1f-05ab-41fa-b950-ec4b7deaf865"
      },
      "source": [
        "filmes['generos'].str.get_dummies().sum().sort_values(ascending=True).values"
      ],
      "execution_count": 43,
      "outputs": [
        {
          "output_type": "execute_result",
          "data": {
            "text/plain": [
              "array([  34,   87,  158,  167,  334,  382,  440,  573,  611,  664,  779,\n",
              "        978,  980, 1199, 1263, 1596, 1828, 1894, 3756, 4361])"
            ]
          },
          "metadata": {
            "tags": []
          },
          "execution_count": 43
        }
      ]
    },
    {
      "cell_type": "markdown",
      "metadata": {
        "id": "8BGx9Rz0P7db",
        "colab_type": "text"
      },
      "source": [
        "Acima estamos acessando os valores da série"
      ]
    },
    {
      "cell_type": "markdown",
      "metadata": {
        "id": "yE-aZ1X2P7db",
        "colab_type": "text"
      },
      "source": [
        "Agora vamos ordenar os índices da série, onde ele fará uma ordenação alfabética, melhorando a visualização de dados:"
      ]
    },
    {
      "cell_type": "code",
      "metadata": {
        "id": "A6Q9BytBP7dc",
        "colab_type": "code",
        "colab": {
          "base_uri": "https://localhost:8080/",
          "height": 381
        },
        "outputId": "ca40c38d-e864-42d9-82cb-4f1a6e77bce1"
      },
      "source": [
        "filmes['generos'].str.get_dummies().sum().sort_index()"
      ],
      "execution_count": 44,
      "outputs": [
        {
          "output_type": "execute_result",
          "data": {
            "text/plain": [
              "(no genres listed)      34\n",
              "Action                1828\n",
              "Adventure             1263\n",
              "Animation              611\n",
              "Children               664\n",
              "Comedy                3756\n",
              "Crime                 1199\n",
              "Documentary            440\n",
              "Drama                 4361\n",
              "Fantasy                779\n",
              "Film-Noir               87\n",
              "Horror                 978\n",
              "IMAX                   158\n",
              "Musical                334\n",
              "Mystery                573\n",
              "Romance               1596\n",
              "Sci-Fi                 980\n",
              "Thriller              1894\n",
              "War                    382\n",
              "Western                167\n",
              "dtype: int64"
            ]
          },
          "metadata": {
            "tags": []
          },
          "execution_count": 44
        }
      ]
    },
    {
      "cell_type": "markdown",
      "metadata": {
        "id": "hRq4qr5cP7dd",
        "colab_type": "text"
      },
      "source": [
        "Agora vamos plotar está série que está ordenada:"
      ]
    },
    {
      "cell_type": "code",
      "metadata": {
        "id": "tEu6VdhWP7dd",
        "colab_type": "code",
        "colab": {
          "base_uri": "https://localhost:8080/",
          "height": 283
        },
        "outputId": "ab300c90-c2c0-4ee2-f6c9-283d087c63f1"
      },
      "source": [
        "filmes['generos'].str.get_dummies().sum().sort_values(ascending=False).plot()"
      ],
      "execution_count": 45,
      "outputs": [
        {
          "output_type": "execute_result",
          "data": {
            "text/plain": [
              "<matplotlib.axes._subplots.AxesSubplot at 0x7fb3f3db80f0>"
            ]
          },
          "metadata": {
            "tags": []
          },
          "execution_count": 45
        },
        {
          "output_type": "display_data",
          "data": {
            "image/png": "[encoded data removed]",
            "text/plain": [
              "<Figure size 432x288 with 1 Axes>"
            ]
          },
          "metadata": {
            "tags": [],
            "needs_background": "light"
          }
        }
      ]
    },
    {
      "cell_type": "markdown",
      "metadata": {
        "id": "rFk3BgSVP7df",
        "colab_type": "text"
      },
      "source": [
        "Notamos que ao plotar ele criou um gráfico de linha, porém não faz sentido, pois as categorias: drama, adventure e etc, não tem relação ma com a outra(uma não é menor que a outra),  temos sim mais filmes de drama do que de adventure, mas a categoria em si, drama, não tem nada a ver com o adventure. Então gráficos de linha são melhores quando lidarmos com dadoe e categorias numéricas, por exemplo: Pessoas com idade de 30 anos assistiram o filme 0 que seria por exemplo jumanji"
      ]
    },
    {
      "cell_type": "markdown",
      "metadata": {
        "id": "aDy7XFCJP7df",
        "colab_type": "text"
      },
      "source": [
        "Como temos categorias que são genêros, e só queremos dizer quantos filmes temos com cada um desses genêros, podemos utilizar o gráfico de 'pizza'...."
      ]
    },
    {
      "cell_type": "code",
      "metadata": {
        "id": "Z2zFS2KVP7dg",
        "colab_type": "code",
        "colab": {
          "base_uri": "https://localhost:8080/",
          "height": 499
        },
        "outputId": "3938f51b-ceb5-4817-d8b9-048e676e469e"
      },
      "source": [
        "filmes['generos'].str.get_dummies().sum().sort_values(ascending=False).plot(\n",
        "    kind='pie', \n",
        "    title='Grafico de categorias relacionadas a suas frequencias',\n",
        "    figsize=(8,8))\n",
        "\n"
      ],
      "execution_count": 46,
      "outputs": [
        {
          "output_type": "execute_result",
          "data": {
            "text/plain": [
              "<matplotlib.axes._subplots.AxesSubplot at 0x7fb3f54d0710>"
            ]
          },
          "metadata": {
            "tags": []
          },
          "execution_count": 46
        },
        {
          "output_type": "display_data",
          "data": {
            "image/png": "[encoded data removed]",
            "text/plain": [
              "<Figure size 576x576 with 1 Axes>"
            ]
          },
          "metadata": {
            "tags": []
          }
        }
      ]
    },
    {
      "cell_type": "markdown",
      "metadata": {
        "id": "jt2oKUnZP7di",
        "colab_type": "text"
      },
      "source": [
        "Utilizamos o figsize, para aumenttar o tamanho do gráfico, para que os nomes não ficassem um em cima do outro, mas ainda continuam, pois são muitas categorias.E notasse um erro grave, as cores estão se repetindo e o que não poderia acontecer, pois os gêneros não tem relação um com o outtro."
      ]
    },
    {
      "cell_type": "markdown",
      "metadata": {
        "id": "l19bl0_7P7di",
        "colab_type": "text"
      },
      "source": [
        "Como o gráfico de pizza não é muito bom para comparar áreas vamos utilizar o gráfico de barras:"
      ]
    },
    {
      "cell_type": "code",
      "metadata": {
        "id": "heuGyTw1P7di",
        "colab_type": "code",
        "colab": {
          "base_uri": "https://localhost:8080/",
          "height": 595
        },
        "outputId": "93760554-4f2a-4fde-cc27-61f92842c79e"
      },
      "source": [
        "filmes['generos'].str.get_dummies().sum().sort_values(ascending=False).plot(\n",
        "    kind='bar', \n",
        "    title='Grafico de barras da quantidade de filmes por categoria',\n",
        "    figsize=(8,8))\n"
      ],
      "execution_count": 47,
      "outputs": [
        {
          "output_type": "execute_result",
          "data": {
            "text/plain": [
              "<matplotlib.axes._subplots.AxesSubplot at 0x7fb3f3b8d860>"
            ]
          },
          "metadata": {
            "tags": []
          },
          "execution_count": 47
        },
        {
          "output_type": "display_data",
          "data": {
            "image/png": "[encoded data removed]",
            "text/plain": [
              "<Figure size 576x576 with 1 Axes>"
            ]
          },
          "metadata": {
            "tags": [],
            "needs_background": "light"
          }
        }
      ]
    },
    {
      "cell_type": "markdown",
      "metadata": {
        "id": "nFajd-8HP7dl",
        "colab_type": "text"
      },
      "source": [
        "Agora temos a representação da quantidade de filmes por categoria"
      ]
    },
    {
      "cell_type": "code",
      "metadata": {
        "id": "-gtOqXgIP7dl",
        "colab_type": "code",
        "colab": {
          "base_uri": "https://localhost:8080/",
          "height": 72
        },
        "outputId": "00c64e78-9008-4124-9b3b-9c5ca02e65ec"
      },
      "source": [
        "import seaborn as sns\n",
        "import matplotlib.pyplot as plt"
      ],
      "execution_count": 48,
      "outputs": [
        {
          "output_type": "stream",
          "text": [
            "/usr/local/lib/python3.6/dist-packages/statsmodels/tools/_testing.py:19: FutureWarning: pandas.util.testing is deprecated. Use the functions in the public API at pandas.testing instead.\n",
            "  import pandas.util.testing as tm\n"
          ],
          "name": "stderr"
        }
      ]
    },
    {
      "cell_type": "markdown",
      "metadata": {
        "id": "Mis8jekJP7do",
        "colab_type": "text"
      },
      "source": [
        "Utilizaremos essa função barplot para fazer algumas comprações\n",
        "\n",
        "neste caso pegaremos os dados brutos, que no caso, são os índicesque são os generos e os valores que são a quantidade de filmes com esse gênero, e vamos dizer que os índices serão a variável x, e os valores a y."
      ]
    },
    {
      "cell_type": "code",
      "metadata": {
        "id": "Nl3kH-0CP7do",
        "colab_type": "code",
        "colab": {
          "base_uri": "https://localhost:8080/",
          "height": 483
        },
        "outputId": "b967e017-3616-4129-ce38-45beb36f02c6"
      },
      "source": [
        "x=filmes['generos'].str.get_dummies().sum().sort_values(ascending=False).index\n",
        "plt.figure(figsize=(18,8))\n",
        "sns.set_style(\"whitegrid\")\n",
        "sns.barplot(\n",
        "    x=filmes['generos'].str.get_dummies().sum().sort_values(ascending=False).index,\n",
        "    y=filmes['generos'].str.get_dummies().sum().sort_values(ascending=False).values,\n",
        "    palette =sns.color_palette(\"BuGn_r\",n_colors=len(x)+5))\n",
        "\n",
        "plt.show()\n"
      ],
      "execution_count": 49,
      "outputs": [
        {
          "output_type": "display_data",
          "data": {
            "image/png": "[encoded data removed]",
            "text/plain": [
              "<Figure size 1296x576 with 1 Axes>"
            ]
          },
          "metadata": {
            "tags": [],
            "needs_background": "light"
          }
        }
      ]
    },
    {
      "cell_type": "markdown",
      "metadata": {
        "id": "y89pl7cUP7dr",
        "colab_type": "text"
      },
      "source": [
        "Com o parâmetro palette =sns.color_palette(\"BuGn_r\",n_colors=len(x)+5)), passando o tipo de palette que queremos, conseguimos alterar as cores, e o '+5', foi coloccado para escurecer um pouco os tons e a última barrinha não ficar tão apagada....."
      ]
    },
    {
      "cell_type": "markdown",
      "metadata": {
        "id": "zIqp5AaNP7dt",
        "colab_type": "text"
      },
      "source": [
        "colocar os valores em cada barra, colocar gifes texturas em cada barra, no topo....,rotacionar os nomes do generos(thicks)"
      ]
    },
    {
      "cell_type": "code",
      "metadata": {
        "id": "kIMxftq_P7dt",
        "colab_type": "code",
        "colab": {
          "base_uri": "https://localhost:8080/",
          "height": 300
        },
        "outputId": "b4744aef-0bab-4b74-9b54-aee66e14f351"
      },
      "source": [
        "notas_do_filme_1 = avaliacoes.query('filmesid==1')['notas']\n",
        "print(notas_do_filme_1.mean())\n",
        "notas_do_filme_1.plot(kind='hist')"
      ],
      "execution_count": 50,
      "outputs": [
        {
          "output_type": "stream",
          "text": [
            "3.9209302325581397\n"
          ],
          "name": "stdout"
        },
        {
          "output_type": "execute_result",
          "data": {
            "text/plain": [
              "<matplotlib.axes._subplots.AxesSubplot at 0x7fb3e9a0f3c8>"
            ]
          },
          "metadata": {
            "tags": []
          },
          "execution_count": 50
        },
        {
          "output_type": "display_data",
          "data": {
            "image/png": "[encoded data removed]",
            "text/plain": [
              "<Figure size 432x288 with 1 Axes>"
            ]
          },
          "metadata": {
            "tags": []
          }
        }
      ]
    },
    {
      "cell_type": "code",
      "metadata": {
        "id": "r2Z0xoP8P7du",
        "colab_type": "code",
        "colab": {
          "base_uri": "https://localhost:8080/",
          "height": 300
        },
        "outputId": "3a06ace7-4a5d-4b86-8d35-6e5c05cc302b"
      },
      "source": [
        "notas_do_filme_2 = avaliacoes.query('filmesid==2')['notas']\n",
        "print(notas_do_filme_2.mean())\n",
        "notas_do_filme_2.plot(kind='hist')"
      ],
      "execution_count": 51,
      "outputs": [
        {
          "output_type": "stream",
          "text": [
            "3.4318181818181817\n"
          ],
          "name": "stdout"
        },
        {
          "output_type": "execute_result",
          "data": {
            "text/plain": [
              "<matplotlib.axes._subplots.AxesSubplot at 0x7fb3e868a0f0>"
            ]
          },
          "metadata": {
            "tags": []
          },
          "execution_count": 51
        },
        {
          "output_type": "display_data",
          "data": {
            "image/png": "[encoded data removed]",
            "text/plain": [
              "<Figure size 432x288 with 1 Axes>"
            ]
          },
          "metadata": {
            "tags": []
          }
        }
      ]
    },
    {
      "cell_type": "code",
      "metadata": {
        "id": "OtJnaMbBP7dw",
        "colab_type": "code",
        "colab": {
          "base_uri": "https://localhost:8080/",
          "height": 173
        },
        "outputId": "a71f2b58-ae33-4248-8c60-0837a4ad7527"
      },
      "source": [
        "notas_do_filme_1.describe()\n",
        "#Descrevendo todas as características do filme 1 em relção a cálculos de média, media e etc...."
      ],
      "execution_count": 52,
      "outputs": [
        {
          "output_type": "execute_result",
          "data": {
            "text/plain": [
              "count    215.000000\n",
              "mean       3.920930\n",
              "std        0.834859\n",
              "min        0.500000\n",
              "25%        3.500000\n",
              "50%        4.000000\n",
              "75%        4.500000\n",
              "max        5.000000\n",
              "Name: notas, dtype: float64"
            ]
          },
          "metadata": {
            "tags": []
          },
          "execution_count": 52
        }
      ]
    },
    {
      "cell_type": "code",
      "metadata": {
        "id": "KR5LtG4-P7dx",
        "colab_type": "code",
        "colab": {
          "base_uri": "https://localhost:8080/",
          "height": 173
        },
        "outputId": "3741ef48-5bd8-4882-9169-ce0bfdd89f84"
      },
      "source": [
        "notas_do_filme_2.describe()\n",
        "#Descrevendo todas as características do filme 2 em relção a cálculos de média, media e etc...."
      ],
      "execution_count": 53,
      "outputs": [
        {
          "output_type": "execute_result",
          "data": {
            "text/plain": [
              "count    110.000000\n",
              "mean       3.431818\n",
              "std        0.881713\n",
              "min        0.500000\n",
              "25%        3.000000\n",
              "50%        3.500000\n",
              "75%        4.000000\n",
              "max        5.000000\n",
              "Name: notas, dtype: float64"
            ]
          },
          "metadata": {
            "tags": []
          },
          "execution_count": 53
        }
      ]
    },
    {
      "cell_type": "code",
      "metadata": {
        "id": "OP-Jm6QqP7d0",
        "colab_type": "code",
        "colab": {
          "base_uri": "https://localhost:8080/",
          "height": 446
        },
        "outputId": "39a64aea-b78a-4540-ba68-7b2dc0b3265c"
      },
      "source": [
        "avaliacoes.groupby('filmesid').mean()\n"
      ],
      "execution_count": 54,
      "outputs": [
        {
          "output_type": "execute_result",
          "data": {
            "text/html": [
              "<div>\n",
              "<style scoped>\n",
              "    .dataframe tbody tr th:only-of-type {\n",
              "        vertical-align: middle;\n",
              "    }\n",
              "\n",
              "    .dataframe tbody tr th {\n",
              "        vertical-align: top;\n",
              "    }\n",
              "\n",
              "    .dataframe thead th {\n",
              "        text-align: right;\n",
              "    }\n",
              "</style>\n",
              "<table border=\"1\" class=\"dataframe\">\n",
              "  <thead>\n",
              "    <tr style=\"text-align: right;\">\n",
              "      <th></th>\n",
              "      <th>usuarioid</th>\n",
              "      <th>notas</th>\n",
              "      <th>momento</th>\n",
              "    </tr>\n",
              "    <tr>\n",
              "      <th>filmesid</th>\n",
              "      <th></th>\n",
              "      <th></th>\n",
              "      <th></th>\n",
              "    </tr>\n",
              "  </thead>\n",
              "  <tbody>\n",
              "    <tr>\n",
              "      <th>1</th>\n",
              "      <td>306.530233</td>\n",
              "      <td>3.920930</td>\n",
              "      <td>1.129835e+09</td>\n",
              "    </tr>\n",
              "    <tr>\n",
              "      <th>2</th>\n",
              "      <td>329.554545</td>\n",
              "      <td>3.431818</td>\n",
              "      <td>1.135805e+09</td>\n",
              "    </tr>\n",
              "    <tr>\n",
              "      <th>3</th>\n",
              "      <td>283.596154</td>\n",
              "      <td>3.259615</td>\n",
              "      <td>1.005110e+09</td>\n",
              "    </tr>\n",
              "    <tr>\n",
              "      <th>4</th>\n",
              "      <td>219.857143</td>\n",
              "      <td>2.357143</td>\n",
              "      <td>8.985789e+08</td>\n",
              "    </tr>\n",
              "    <tr>\n",
              "      <th>5</th>\n",
              "      <td>299.571429</td>\n",
              "      <td>3.071429</td>\n",
              "      <td>9.926643e+08</td>\n",
              "    </tr>\n",
              "    <tr>\n",
              "      <th>...</th>\n",
              "      <td>...</td>\n",
              "      <td>...</td>\n",
              "      <td>...</td>\n",
              "    </tr>\n",
              "    <tr>\n",
              "      <th>193581</th>\n",
              "      <td>184.000000</td>\n",
              "      <td>4.000000</td>\n",
              "      <td>1.537109e+09</td>\n",
              "    </tr>\n",
              "    <tr>\n",
              "      <th>193583</th>\n",
              "      <td>184.000000</td>\n",
              "      <td>3.500000</td>\n",
              "      <td>1.537110e+09</td>\n",
              "    </tr>\n",
              "    <tr>\n",
              "      <th>193585</th>\n",
              "      <td>184.000000</td>\n",
              "      <td>3.500000</td>\n",
              "      <td>1.537110e+09</td>\n",
              "    </tr>\n",
              "    <tr>\n",
              "      <th>193587</th>\n",
              "      <td>184.000000</td>\n",
              "      <td>3.500000</td>\n",
              "      <td>1.537110e+09</td>\n",
              "    </tr>\n",
              "    <tr>\n",
              "      <th>193609</th>\n",
              "      <td>331.000000</td>\n",
              "      <td>4.000000</td>\n",
              "      <td>1.537158e+09</td>\n",
              "    </tr>\n",
              "  </tbody>\n",
              "</table>\n",
              "<p>9724 rows × 3 columns</p>\n",
              "</div>"
            ],
            "text/plain": [
              "           usuarioid     notas       momento\n",
              "filmesid                                    \n",
              "1         306.530233  3.920930  1.129835e+09\n",
              "2         329.554545  3.431818  1.135805e+09\n",
              "3         283.596154  3.259615  1.005110e+09\n",
              "4         219.857143  2.357143  8.985789e+08\n",
              "5         299.571429  3.071429  9.926643e+08\n",
              "...              ...       ...           ...\n",
              "193581    184.000000  4.000000  1.537109e+09\n",
              "193583    184.000000  3.500000  1.537110e+09\n",
              "193585    184.000000  3.500000  1.537110e+09\n",
              "193587    184.000000  3.500000  1.537110e+09\n",
              "193609    331.000000  4.000000  1.537158e+09\n",
              "\n",
              "[9724 rows x 3 columns]"
            ]
          },
          "metadata": {
            "tags": []
          },
          "execution_count": 54
        }
      ]
    },
    {
      "cell_type": "code",
      "metadata": {
        "id": "3uqYOmqzP7d3",
        "colab_type": "code",
        "colab": {
          "base_uri": "https://localhost:8080/",
          "height": 243
        },
        "outputId": "c7f904f0-0866-4285-81af-92f99bede351"
      },
      "source": [
        "avaliacoes.groupby('filmesid')['notas'].mean()"
      ],
      "execution_count": 55,
      "outputs": [
        {
          "output_type": "execute_result",
          "data": {
            "text/plain": [
              "filmesid\n",
              "1         3.920930\n",
              "2         3.431818\n",
              "3         3.259615\n",
              "4         2.357143\n",
              "5         3.071429\n",
              "            ...   \n",
              "193581    4.000000\n",
              "193583    3.500000\n",
              "193585    3.500000\n",
              "193587    3.500000\n",
              "193609    4.000000\n",
              "Name: notas, Length: 9724, dtype: float64"
            ]
          },
          "metadata": {
            "tags": []
          },
          "execution_count": 55
        }
      ]
    },
    {
      "cell_type": "code",
      "metadata": {
        "id": "3dJGY2chP7d4",
        "colab_type": "code",
        "colab": {
          "base_uri": "https://localhost:8080/",
          "height": 415
        },
        "outputId": "b4c5e35c-2a9d-48b0-c6e9-266f65bed097"
      },
      "source": [
        "nome_dos_filmes_junto_com_a_media = filmes.join(media_de_notas_por_filme, on =\"filmesid\")\n",
        "# vou juntar as médias por filme junto com seus nomes que estão em outro datafrrame, como se fosse um join do banco de dados\n",
        "nome_dos_filmes_junto_com_a_media\n",
        "nome_dos_filmes_junto_com_a_media.sort_values('notas',ascending=False)[376:985]"
      ],
      "execution_count": 60,
      "outputs": [
        {
          "output_type": "execute_result",
          "data": {
            "text/html": [
              "<div>\n",
              "<style scoped>\n",
              "    .dataframe tbody tr th:only-of-type {\n",
              "        vertical-align: middle;\n",
              "    }\n",
              "\n",
              "    .dataframe tbody tr th {\n",
              "        vertical-align: top;\n",
              "    }\n",
              "\n",
              "    .dataframe thead th {\n",
              "        text-align: right;\n",
              "    }\n",
              "</style>\n",
              "<table border=\"1\" class=\"dataframe\">\n",
              "  <thead>\n",
              "    <tr style=\"text-align: right;\">\n",
              "      <th></th>\n",
              "      <th>filmesid</th>\n",
              "      <th>titulo</th>\n",
              "      <th>generos</th>\n",
              "      <th>notas</th>\n",
              "    </tr>\n",
              "  </thead>\n",
              "  <tbody>\n",
              "    <tr>\n",
              "      <th>6559</th>\n",
              "      <td>55020</td>\n",
              "      <td>Ten, The (2007)</td>\n",
              "      <td>Comedy</td>\n",
              "      <td>4.500000</td>\n",
              "    </tr>\n",
              "    <tr>\n",
              "      <th>6513</th>\n",
              "      <td>53883</td>\n",
              "      <td>Power of Nightmares, The: The Rise of the Poli...</td>\n",
              "      <td>Documentary</td>\n",
              "      <td>4.500000</td>\n",
              "    </tr>\n",
              "    <tr>\n",
              "      <th>7956</th>\n",
              "      <td>96084</td>\n",
              "      <td>Hands Over the City (Le mani sulla città) (1963)</td>\n",
              "      <td>Drama</td>\n",
              "      <td>4.500000</td>\n",
              "    </tr>\n",
              "    <tr>\n",
              "      <th>3608</th>\n",
              "      <td>4956</td>\n",
              "      <td>Stunt Man, The (1980)</td>\n",
              "      <td>Action|Adventure|Comedy|Drama|Romance|Thriller</td>\n",
              "      <td>4.500000</td>\n",
              "    </tr>\n",
              "    <tr>\n",
              "      <th>4128</th>\n",
              "      <td>5938</td>\n",
              "      <td>Deathtrap (1982)</td>\n",
              "      <td>Comedy|Crime|Mystery|Thriller</td>\n",
              "      <td>4.500000</td>\n",
              "    </tr>\n",
              "    <tr>\n",
              "      <th>...</th>\n",
              "      <td>...</td>\n",
              "      <td>...</td>\n",
              "      <td>...</td>\n",
              "      <td>...</td>\n",
              "    </tr>\n",
              "    <tr>\n",
              "      <th>926</th>\n",
              "      <td>1225</td>\n",
              "      <td>Amadeus (1984)</td>\n",
              "      <td>Drama</td>\n",
              "      <td>4.184211</td>\n",
              "    </tr>\n",
              "    <tr>\n",
              "      <th>3622</th>\n",
              "      <td>4973</td>\n",
              "      <td>Amelie (Fabuleux destin d'Amélie Poulain, Le) ...</td>\n",
              "      <td>Comedy|Romance</td>\n",
              "      <td>4.183333</td>\n",
              "    </tr>\n",
              "    <tr>\n",
              "      <th>757</th>\n",
              "      <td>994</td>\n",
              "      <td>Big Night (1996)</td>\n",
              "      <td>Comedy|Drama</td>\n",
              "      <td>4.181818</td>\n",
              "    </tr>\n",
              "    <tr>\n",
              "      <th>3413</th>\n",
              "      <td>4642</td>\n",
              "      <td>Hedwig and the Angry Inch (2000)</td>\n",
              "      <td>Comedy|Drama|Musical</td>\n",
              "      <td>4.181818</td>\n",
              "    </tr>\n",
              "    <tr>\n",
              "      <th>2197</th>\n",
              "      <td>2921</td>\n",
              "      <td>High Plains Drifter (1973)</td>\n",
              "      <td>Western</td>\n",
              "      <td>4.181818</td>\n",
              "    </tr>\n",
              "  </tbody>\n",
              "</table>\n",
              "<p>609 rows × 4 columns</p>\n",
              "</div>"
            ],
            "text/plain": [
              "      filmesid  ...     notas\n",
              "6559     55020  ...  4.500000\n",
              "6513     53883  ...  4.500000\n",
              "7956     96084  ...  4.500000\n",
              "3608      4956  ...  4.500000\n",
              "4128      5938  ...  4.500000\n",
              "...        ...  ...       ...\n",
              "926       1225  ...  4.184211\n",
              "3622      4973  ...  4.183333\n",
              "757        994  ...  4.181818\n",
              "3413      4642  ...  4.181818\n",
              "2197      2921  ...  4.181818\n",
              "\n",
              "[609 rows x 4 columns]"
            ]
          },
          "metadata": {
            "tags": []
          },
          "execution_count": 60
        }
      ]
    },
    {
      "cell_type": "code",
      "metadata": {
        "id": "3xBc_H0nP7d6",
        "colab_type": "code",
        "colab": {
          "base_uri": "https://localhost:8080/",
          "height": 421
        },
        "outputId": "fc3b4519-6367-4c42-b8ed-25204c87ea22"
      },
      "source": [
        "def plota_filmes(n):\n",
        "    notas_do_filme = avaliacoes.query(f'filmesid=={n}')['notas']\n",
        "    notas_do_filme.plot(kind='hist')\n",
        "    return notas_do_filme.describe()\n",
        "    \n",
        "plota_filmes(994)"
      ],
      "execution_count": 61,
      "outputs": [
        {
          "output_type": "execute_result",
          "data": {
            "text/plain": [
              "count    11.000000\n",
              "mean      4.181818\n",
              "std       0.716684\n",
              "min       3.000000\n",
              "25%       3.750000\n",
              "50%       4.000000\n",
              "75%       5.000000\n",
              "max       5.000000\n",
              "Name: notas, dtype: float64"
            ]
          },
          "metadata": {
            "tags": []
          },
          "execution_count": 61
        },
        {
          "output_type": "display_data",
          "data": {
            "image/png": "[encoded data removed]",
            "text/plain": [
              "<Figure size 432x288 with 1 Axes>"
            ]
          },
          "metadata": {
            "tags": []
          }
        }
      ]
    },
    {
      "cell_type": "code",
      "metadata": {
        "id": "Y--TTJWsP7d8",
        "colab_type": "code",
        "colab": {
          "base_uri": "https://localhost:8080/",
          "height": 669
        },
        "outputId": "a7a93f9a-4ce8-4fd1-bbfe-1f5bbafd4af4"
      },
      "source": [
        "def plota_filmes(n):\n",
        "    notas_do_filme = avaliacoes.query(f'filmesid=={n}')['notas']\n",
        "    notas_do_filme.plot(kind='hist')\n",
        "    plt.show()\n",
        "    notas_do_filme.plot.box()\n",
        "    plt.show()\n",
        "    return notas_do_filme.describe()\n",
        "    \n",
        "plota_filmes(994)"
      ],
      "execution_count": 62,
      "outputs": [
        {
          "output_type": "display_data",
          "data": {
            "image/png": "[encoded data removed]",
            "text/plain": [
              "<Figure size 432x288 with 1 Axes>"
            ]
          },
          "metadata": {
            "tags": []
          }
        },
        {
          "output_type": "display_data",
          "data": {
            "image/png": "[encoded data removed]",
            "text/plain": [
              "<Figure size 432x288 with 1 Axes>"
            ]
          },
          "metadata": {
            "tags": []
          }
        },
        {
          "output_type": "execute_result",
          "data": {
            "text/plain": [
              "count    11.000000\n",
              "mean      4.181818\n",
              "std       0.716684\n",
              "min       3.000000\n",
              "25%       3.750000\n",
              "50%       4.000000\n",
              "75%       5.000000\n",
              "max       5.000000\n",
              "Name: notas, dtype: float64"
            ]
          },
          "metadata": {
            "tags": []
          },
          "execution_count": 62
        }
      ]
    },
    {
      "cell_type": "markdown",
      "metadata": {
        "id": "hWC1xORWTs6p",
        "colab_type": "text"
      },
      "source": [
        "Criando os gráficos de boxplot dos filmes de códigos 1,2,919 e 46.Onde podemos analisar os outiliers dos filmes 1 (que neste caso possue notas entre 0,5 e 1,5 aproximadamente) e filme 2 ( que varia aproximadamente de 0,5 a 1,0..."
      ]
    },
    {
      "cell_type": "code",
      "metadata": {
        "id": "YWwK2hKrP7d9",
        "colab_type": "code",
        "colab": {
          "base_uri": "https://localhost:8080/",
          "height": 297
        },
        "outputId": "9d27cf04-ac9b-4fff-96c3-c63efd043dee"
      },
      "source": [
        "sns.boxplot(data = avaliacoes.query('filmesid in [1,2,919,46]'),x='filmesid',y='notas')\n",
        "#utilizando a biblioteca seaborn, para criar o boxplot destes quatro filmes"
      ],
      "execution_count": 59,
      "outputs": [
        {
          "output_type": "execute_result",
          "data": {
            "text/plain": [
              "<matplotlib.axes._subplots.AxesSubplot at 0x7fb3e8ac24a8>"
            ]
          },
          "metadata": {
            "tags": []
          },
          "execution_count": 59
        },
        {
          "output_type": "display_data",
          "data": {
            "image/png": "[encoded data removed]",
            "text/plain": [
              "<Figure size 432x288 with 1 Axes>"
            ]
          },
          "metadata": {
            "tags": []
          }
        }
      ]
    }
  ]
}